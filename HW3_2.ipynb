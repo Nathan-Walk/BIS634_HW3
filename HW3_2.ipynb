{
 "cells": [
  {
   "cell_type": "code",
   "execution_count": 2,
   "metadata": {},
   "outputs": [],
   "source": [
    "import urllib.request\n",
    "import pandas as pd\n",
    "import numpy as np\n",
    "import re\n",
    "from bs4 import BeautifulSoup\n"
   ]
  },
  {
   "cell_type": "code",
   "execution_count": 4,
   "metadata": {},
   "outputs": [
    {
     "name": "stdout",
     "output_type": "stream",
     "text": [
      "1.100369\n",
      "1.100377\n",
      "a:  0.2008000000000008  b:  0.7008000000000008\n",
      "1.10036548\n",
      "1.10037028\n",
      "a:  0.2012799999999924  b:  0.7012799999999924\n",
      "1.1003645968\n",
      "1.1003674768\n",
      "a:  0.20156799999999625  b:  0.7015679999999962\n",
      "1.10036450925\n",
      "1.10036623725\n",
      "a:  0.2017407999999941  b:  0.7017407999999941\n",
      "1.10036461597\n",
      "1.10036565277\n",
      "a:  0.2018444800000017  b:  0.7018444800000017\n",
      "1.10036473733\n",
      "1.10036535941\n",
      "a:  0.2019066879999974  b:  0.7019066879999973\n",
      "1.10036483079\n",
      "1.10036520404\n",
      "a:  0.20194401299999926  b:  0.7019440129999992\n",
      "1.1003648943\n",
      "1.10036511824\n",
      "a:  0.20196640700000917  b:  0.7019664070000091\n",
      "1.10036493507\n",
      "1.10036506944\n",
      "a:  0.20197984400001073  b:  0.7019798440000107\n",
      "1.1003649605\n",
      "1.10036504112\n",
      "a:  0.20198790600001165  b:  0.7019879060000116\n",
      "1.1003649761\n",
      "1.10036502448\n",
      "a:  0.20199274400001227  b:  0.7019927440000122\n",
      "1.10036498559\n",
      "1.10036501462\n",
      "a:  0.20199564700000822  b:  0.7019956470000082\n",
      "1.10036499133\n",
      "1.10036500874\n",
      "a:  0.20199738800001904  b:  0.701997388000019\n",
      "1.10036499479\n",
      "1.10036500524\n",
      "a:  0.20199843300001669  b:  0.7019984330000166\n",
      "1.10036499687\n",
      "1.10036500314\n",
      "a:  0.20199906000002416  b:  0.7019990600000241\n"
     ]
    }
   ],
   "source": [
    "h=.001\n",
    "gamma=.1\n",
    "\n",
    "\n",
    "\n",
    "def get_error(a,b):\n",
    "    url = f\"http://ramcdougal.com/cgi-bin/error_function.py?a={a}&b={b}\"\n",
    "    page=urllib.request.urlopen(url)\n",
    "    soup=BeautifulSoup(page)\n",
    "    value=soup.get_text()\n",
    "    value=re.findall('([0-9.]+)',value)\n",
    "    value = float(value[0])\n",
    "    print(value)\n",
    "    return value\n",
    "    \n",
    "#def err_prime(a,b)\n",
    "#error = get_error((a+h),(b+h)) - get_error(a,b))/h\n",
    "#    return error\n",
    "\n",
    "a=0.2\n",
    "b=0.7\n",
    "for i in range(15):\n",
    "    error_prime = (get_error((a+h),(b+h))-get_error(a,b))/h\n",
    "    a = a - gamma*error_prime\n",
    "    b = b - gamma*error_prime\n",
    "    print(f\"a: \",a,\" b: \",b)\n",
    "    "
   ]
  },
  {
   "cell_type": "code",
   "execution_count": 114,
   "metadata": {},
   "outputs": [
    {
     "data": {
      "text/plain": [
       "'1.183777\\n'"
      ]
     },
     "execution_count": 114,
     "metadata": {},
     "output_type": "execute_result"
    }
   ],
   "source": [
    "url = f\"http://ramcdougal.com/cgi-bin/error_function.py?a={a}&b={b}\"\n",
    "page=urllib.request.urlopen(url)\n",
    "soup=BeautifulSoup(page)\n",
    "value=soup.get_text()\n",
    "value"
   ]
  },
  {
   "cell_type": "code",
   "execution_count": 109,
   "metadata": {},
   "outputs": [],
   "source": [
    "a=.2\n",
    "b=.4\n"
   ]
  },
  {
   "cell_type": "code",
   "execution_count": 120,
   "metadata": {},
   "outputs": [
    {
     "name": "stdout",
     "output_type": "stream",
     "text": [
      "1.183777\n",
      "\n",
      "1.183777\n"
     ]
    }
   ],
   "source": [
    "url = f\"http://ramcdougal.com/cgi-bin/error_function.py?a={a}&b={b}\"\n",
    "page=urllib.request.urlopen(url)\n",
    "soup=BeautifulSoup(page)\n",
    "value=soup.get_text()\n",
    "print(value)\n",
    "value=re.findall('([0-9.]+)',value)\n",
    "value = float(value[0])\n",
    "print(value)"
   ]
  },
  {
   "cell_type": "code",
   "execution_count": 102,
   "metadata": {},
   "outputs": [
    {
     "data": {
      "text/plain": [
       "str"
      ]
     },
     "execution_count": 102,
     "metadata": {},
     "output_type": "execute_result"
    }
   ],
   "source": [
    "type(value)\n",
    "\n"
   ]
  },
  {
   "cell_type": "code",
   "execution_count": 23,
   "metadata": {},
   "outputs": [
    {
     "data": {
      "text/plain": [
       "<http.client.HTTPResponse at 0x18aef917910>"
      ]
     },
     "execution_count": 23,
     "metadata": {},
     "output_type": "execute_result"
    }
   ],
   "source": [
    "page"
   ]
  },
  {
   "cell_type": "code",
   "execution_count": 53,
   "metadata": {},
   "outputs": [
    {
     "data": {
      "text/plain": [
       "b'\\n1.294915\\n'"
      ]
     },
     "execution_count": 53,
     "metadata": {},
     "output_type": "execute_result"
    }
   ],
   "source": [
    "page.read()"
   ]
  },
  {
   "cell_type": "code",
   "execution_count": 58,
   "metadata": {},
   "outputs": [],
   "source": [
    "soup=BeautifulSoup(page)"
   ]
  },
  {
   "cell_type": "code",
   "execution_count": 62,
   "metadata": {},
   "outputs": [],
   "source": [
    "value=float(soup.get_text())\n",
    "\n"
   ]
  },
  {
   "cell_type": "code",
   "execution_count": 63,
   "metadata": {},
   "outputs": [
    {
     "data": {
      "text/plain": [
       "1.294915"
      ]
     },
     "execution_count": 63,
     "metadata": {},
     "output_type": "execute_result"
    }
   ],
   "source": [
    "value"
   ]
  },
  {
   "cell_type": "code",
   "execution_count": null,
   "metadata": {},
   "outputs": [],
   "source": []
  }
 ],
 "metadata": {
  "kernelspec": {
   "display_name": "Python 3",
   "language": "python",
   "name": "python3"
  },
  "language_info": {
   "codemirror_mode": {
    "name": "ipython",
    "version": 3
   },
   "file_extension": ".py",
   "mimetype": "text/x-python",
   "name": "python",
   "nbconvert_exporter": "python",
   "pygments_lexer": "ipython3",
   "version": "3.8.3"
  }
 },
 "nbformat": 4,
 "nbformat_minor": 4
}
